{
 "cells": [
  {
   "cell_type": "markdown",
   "id": "e7d30d1e-a3bd-4c0e-83ae-02eb54e4a0e1",
   "metadata": {},
   "source": [
    "<center><h2>Gen AI: Vector Database</h2></center"
   ]
  },
  {
   "cell_type": "markdown",
   "id": "1e660dfd-103a-429b-986f-509bebffd014",
   "metadata": {},
   "source": [
    "#### 5.1: ChromaDB Intro\n",
    "- Vector databases store data as vectors (embeddings), enabling fast and efficient similarity searches across high-dimensional spaces.\n",
    "- With the Gen AI revolution, many vector databases have emerged. Here are a few popular ones: Chromadb (open source), Milvus (open source), Pinecone, Qdrant."
   ]
  },
  {
   "cell_type": "markdown",
   "id": "6c7c75e6-60a3-4a7a-aa0e-6ca0cdb4326b",
   "metadata": {},
   "source": [
    "#### 5.2: Basic Operations in ChromaDB"
   ]
  },
  {
   "cell_type": "code",
   "execution_count": 12,
   "id": "713b2835-3b3c-4435-9184-f920538b8dd7",
   "metadata": {},
   "outputs": [],
   "source": [
    "import chromadb"
   ]
  },
  {
   "cell_type": "markdown",
   "id": "507d9d50-6e46-4814-b48c-5b9d26534af5",
   "metadata": {},
   "source": [
    "##### Ephemeral (In Memory) Client"
   ]
  },
  {
   "cell_type": "code",
   "execution_count": null,
   "id": "860afd85-8de1-4705-b203-8b87aa7873c1",
   "metadata": {},
   "outputs": [],
   "source": [
    "client = chromadb.Client()"
   ]
  },
  {
   "cell_type": "code",
   "execution_count": 14,
   "id": "62068ea4-3e8c-43ab-89f1-915410ccb4f6",
   "metadata": {},
   "outputs": [],
   "source": [
    "# you can use delete collection to delete it just in case you have created the news collection\n",
    "# already in the memory\n",
    "# client.delete_collection(\"news\")"
   ]
  },
  {
   "cell_type": "code",
   "execution_count": null,
   "id": "51c005c5-679f-4b18-9e22-c2ee8b69f082",
   "metadata": {},
   "outputs": [],
   "source": [
    "collection = client.create_collection(name=\"news\")\n",
    "\n",
    "# you can get the collection directly as a return value of create_collection method or\n",
    "# call client.get_collection(\"news\") later on to get it\n",
    "# collection = client.get_collection(\"news\")"
   ]
  },
  {
   "cell_type": "code",
   "execution_count": null,
   "id": "af4f6c6c-0e49-401b-bac6-4ec4513b163a",
   "metadata": {},
   "outputs": [],
   "source": [
    "collection.add(\n",
    "    documents=[\n",
    "        \"Apple reported its quarterly earnings today.\",\n",
    "        \"Apple has a lot of vitamin A\" \n",
    "    ],\n",
    "    ids=[\"id1\", \"id2\"]\n",
    ")"
   ]
  },
  {
   "cell_type": "code",
   "execution_count": null,
   "id": "ef5342e6-de19-4e3c-9403-3b67e4e4bbaa",
   "metadata": {},
   "outputs": [],
   "source": [
    "objects = collection.peek()\n",
    "len(objects['embeddings'][0])"
   ]
  },
  {
   "cell_type": "code",
   "execution_count": 18,
   "id": "7c79562b-2c13-4c4d-b0bd-7db18e4bd455",
   "metadata": {},
   "outputs": [
    {
     "name": "stderr",
     "output_type": "stream",
     "text": [
      "Failed to send telemetry event CollectionQueryEvent: capture() takes 1 positional argument but 3 were given\n"
     ]
    },
    {
     "data": {
      "text/plain": [
       "{'ids': [['id1', 'id2']],\n",
       " 'distances': [[1.3853877782821655, 1.7049835920333862]],\n",
       " 'metadatas': [[None, None]],\n",
       " 'embeddings': None,\n",
       " 'documents': [['Apple reported its quarterly earnings today.',\n",
       "   'Apple has a lot of vitamin A']],\n",
       " 'uris': None,\n",
       " 'data': None,\n",
       " 'included': ['metadatas', 'documents', 'distances']}"
      ]
     },
     "execution_count": 18,
     "metadata": {},
     "output_type": "execute_result"
    }
   ],
   "source": [
    "results = collection.query(\n",
    "    query_texts=[\"New Iphone will launch in september\"],\n",
    "    n_results=2\n",
    ")\n",
    "results"
   ]
  },
  {
   "cell_type": "code",
   "execution_count": 19,
   "id": "0d553f08-5e45-4ed8-b0d0-cce4919964fb",
   "metadata": {},
   "outputs": [
    {
     "data": {
      "text/plain": [
       "{'ids': [['id2', 'id1']],\n",
       " 'distances': [[1.4487004280090332, 1.8779758214950562]],\n",
       " 'metadatas': [[None, None]],\n",
       " 'embeddings': None,\n",
       " 'documents': [['Apple has a lot of vitamin A',\n",
       "   'Apple reported its quarterly earnings today.']],\n",
       " 'uris': None,\n",
       " 'data': None,\n",
       " 'included': ['metadatas', 'documents', 'distances']}"
      ]
     },
     "execution_count": 19,
     "metadata": {},
     "output_type": "execute_result"
    }
   ],
   "source": [
    "results = collection.query(\n",
    "    query_texts = [\"My niece loves oranges\"],\n",
    "    n_results=2\n",
    ")\n",
    "results"
   ]
  },
  {
   "cell_type": "markdown",
   "id": "e8ca3ea6-7b42-4056-a82a-1fe53517f24a",
   "metadata": {},
   "source": [
    "##### Persistent Client"
   ]
  },
  {
   "cell_type": "code",
   "execution_count": null,
   "id": "681830e1-66db-48de-a0a5-c8501b206c90",
   "metadata": {},
   "outputs": [],
   "source": [
    "clientp = chromadb.PersistentClient(path=\".././news_vector_db\")"
   ]
  },
  {
   "cell_type": "code",
   "execution_count": null,
   "id": "5f1409af-ae4b-43da-b183-2a8c25d032a4",
   "metadata": {},
   "outputs": [],
   "source": [
    "from chromadb.utils import embedding_functions\n",
    "\n",
    "ef = embedding_functions.SentenceTransformerEmbeddingFunction(\n",
    "    model_name='all-distilroberta-v1'\n",
    ")\n",
    "\n",
    "collection = clientp.create_collection(\n",
    "    name=\"news_v2\",\n",
    "    embedding_function=ef\n",
    ")"
   ]
  },
  {
   "cell_type": "code",
   "execution_count": null,
   "id": "40e9550a-0957-4258-911a-a07f18d4d67f",
   "metadata": {},
   "outputs": [],
   "source": [
    "collection.add(\n",
    "    documents = [\n",
    "        \"Apple reported its quarterly earnings today.\",\n",
    "        \"Apple has a lot of vitamin A\"\n",
    "    ],\n",
    "    ids = [\"id1\", \"id2\"]\n",
    ")"
   ]
  },
  {
   "cell_type": "code",
   "execution_count": 23,
   "id": "4eea0e4b-444d-4591-baeb-480abb3971bb",
   "metadata": {},
   "outputs": [
    {
     "name": "stderr",
     "output_type": "stream",
     "text": [
      "Failed to send telemetry event CollectionQueryEvent: capture() takes 1 positional argument but 3 were given\n"
     ]
    },
    {
     "data": {
      "text/plain": [
       "{'ids': [['id1', 'id2']],\n",
       " 'distances': [[1.3624801497380787, 1.618443419359539]],\n",
       " 'metadatas': [[None, None]],\n",
       " 'embeddings': None,\n",
       " 'documents': [['Apple reported its quarterly earnings today.',\n",
       "   'Apple has a lot of vitamin A']],\n",
       " 'uris': None,\n",
       " 'data': None,\n",
       " 'included': ['metadatas', 'documents', 'distances']}"
      ]
     },
     "execution_count": 23,
     "metadata": {},
     "output_type": "execute_result"
    }
   ],
   "source": [
    "results = collection.query(\n",
    "    query_texts = [\"New iPhone will launch this September\"],\n",
    "    n_results=2\n",
    ")\n",
    "results"
   ]
  },
  {
   "cell_type": "code",
   "execution_count": 24,
   "id": "9d956ebe-a827-4053-92a6-078c65cb9735",
   "metadata": {},
   "outputs": [
    {
     "data": {
      "text/plain": [
       "1754463229388121100"
      ]
     },
     "execution_count": 24,
     "metadata": {},
     "output_type": "execute_result"
    }
   ],
   "source": [
    "clientp.heartbeat()"
   ]
  },
  {
   "cell_type": "code",
   "execution_count": null,
   "id": "90c670bc-1547-4b86-8ed2-4fcf9e3ca688",
   "metadata": {},
   "outputs": [],
   "source": [
    "# client reset will empty and delete the database. By default you can not perform\n",
    "# this operation. You need to set a specific environment variable to allow the reset \n",
    "# as it is a destructive operation\n",
    "# client.reset()"
   ]
  },
  {
   "cell_type": "markdown",
   "id": "e7237694-0b90-4c0c-abcc-e9939daf1ec8",
   "metadata": {},
   "source": [
    "#### 5.3: Add, Update, Delete Query"
   ]
  },
  {
   "cell_type": "code",
   "execution_count": null,
   "id": "ab248396-32ef-4450-9315-d7da34e6b56d",
   "metadata": {},
   "outputs": [],
   "source": [
    "from datetime import datetime\n",
    "\n",
    "collection = client.create_collection(\n",
    "    name=\"reviews\", \n",
    "#     embedding_function=emb_fn,\n",
    "    metadata={\n",
    "        \"description\": \"Product reviews\",\n",
    "        \"created\": str(datetime.now())\n",
    "    }  \n",
    ")"
   ]
  },
  {
   "cell_type": "code",
   "execution_count": 26,
   "id": "6bbbcaa8-532f-46a8-8ce1-51b0c126b005",
   "metadata": {},
   "outputs": [],
   "source": [
    "# get collection gets a collection object. If collection doesn't exist then it throws an error\n",
    "collection = client.get_collection(\"reviews\")"
   ]
  },
  {
   "cell_type": "code",
   "execution_count": null,
   "id": "2e7a1aed-bbde-49e5-95a0-8a60acda3c93",
   "metadata": {},
   "outputs": [],
   "source": [
    "# Add\n",
    "# 1. Add Initial Customer Feedback\n",
    "collection.add(\n",
    "    documents=[\n",
    "        \"The delivery was fast and the product quality is excellent!\",\n",
    "        \"I was not able to increase TV's brightness so I returned it back\",\n",
    "        \"The shoes I ordered were too small. Sizing is inaccurate.\",\n",
    "        \"Great customer support. Resolved my issue in minutes.\"\n",
    "    ],\n",
    "    ids=[\"r1\", \"r2\", \"r3\", \"r4\"],\n",
    "    metadatas=[\n",
    "        {\"product_category\": \"electronics\", \"rating\": 5},\n",
    "        {\"product_category\": \"electronics\", \"rating\": 2},\n",
    "        {\"product_category\": \"apparel\", \"rating\": 3},\n",
    "        {\"product_category\": \"services\", \"rating\": 4}\n",
    "    ]\n",
    ")"
   ]
  },
  {
   "cell_type": "code",
   "execution_count": 28,
   "id": "c96456fa-9cae-4983-a586-f83b44c102e7",
   "metadata": {},
   "outputs": [
    {
     "data": {
      "text/plain": [
       "4"
      ]
     },
     "execution_count": 28,
     "metadata": {},
     "output_type": "execute_result"
    }
   ],
   "source": [
    "collection.count()"
   ]
  },
  {
   "cell_type": "code",
   "execution_count": null,
   "id": "9e5ea8fc-89b4-43a1-b7df-a0c8d9f98c12",
   "metadata": {},
   "outputs": [],
   "source": [
    "# returns all the documents in a collection\n",
    "collection.peek()"
   ]
  },
  {
   "cell_type": "code",
   "execution_count": 30,
   "id": "c7ef3bdd-05e8-4bcc-a879-38f83d13cde7",
   "metadata": {},
   "outputs": [
    {
     "name": "stderr",
     "output_type": "stream",
     "text": [
      "Failed to send telemetry event CollectionGetEvent: capture() takes 1 positional argument but 3 were given\n"
     ]
    },
    {
     "data": {
      "text/plain": [
       "{'ids': ['r1', 'r2'],\n",
       " 'embeddings': None,\n",
       " 'metadatas': [{'product_category': 'electronics', 'rating': 5},\n",
       "  {'product_category': 'electronics', 'rating': 2}],\n",
       " 'documents': ['The delivery was fast and the product quality is excellent!',\n",
       "  \"I was not able to increase TV's brightness so I returned it back\"],\n",
       " 'uris': None,\n",
       " 'data': None,\n",
       " 'included': ['metadatas', 'documents']}"
      ]
     },
     "execution_count": 30,
     "metadata": {},
     "output_type": "execute_result"
    }
   ],
   "source": [
    "collection.get(ids=['r1','r2'])"
   ]
  },
  {
   "cell_type": "code",
   "execution_count": 31,
   "id": "aacf5005-95b1-4237-aec9-1d629237b211",
   "metadata": {},
   "outputs": [
    {
     "name": "stderr",
     "output_type": "stream",
     "text": [
      "Failed to send telemetry event CollectionQueryEvent: capture() takes 1 positional argument but 3 were given\n"
     ]
    },
    {
     "data": {
      "text/plain": [
       "{'ids': [['r1', 'r2']],\n",
       " 'distances': [[0.8920919895172119, 2.0018961429595947]],\n",
       " 'metadatas': [[{'product_category': 'electronics', 'rating': 5},\n",
       "   {'product_category': 'electronics', 'rating': 2}]],\n",
       " 'embeddings': None,\n",
       " 'documents': [['The delivery was fast and the product quality is excellent!',\n",
       "   \"I was not able to increase TV's brightness so I returned it back\"]],\n",
       " 'uris': None,\n",
       " 'data': None,\n",
       " 'included': ['metadatas', 'documents', 'distances']}"
      ]
     },
     "execution_count": 31,
     "metadata": {},
     "output_type": "execute_result"
    }
   ],
   "source": [
    "collection.query(\n",
    "    query_texts = [\"fast shipping\"],\n",
    "    n_results=2,\n",
    "    where={\"product_category\": \"electronics\"}\n",
    ")"
   ]
  },
  {
   "cell_type": "code",
   "execution_count": null,
   "id": "811b3063-1e7e-4c16-a1c6-ebfcc9fa02e0",
   "metadata": {},
   "outputs": [],
   "source": [
    "# Update\n",
    "collection.update(\n",
    "    documents=[\"The shoes I ordered were replaced with a larger size. Fits perfectly now!\"],\n",
    "    ids=[\"r3\"],\n",
    "    metadatas=[\n",
    "        {\"product_category\": \"apparel\", \"rating\": 5}  # Rating improved after resolution\n",
    "    ]\n",
    ")"
   ]
  },
  {
   "cell_type": "code",
   "execution_count": 33,
   "id": "5f4379be-61c4-4902-97e4-eea6b789bf32",
   "metadata": {},
   "outputs": [
    {
     "data": {
      "text/plain": [
       "{'ids': [['r3']],\n",
       " 'distances': [[0.6437577605247498]],\n",
       " 'metadatas': [[{'product_category': 'apparel', 'rating': 5}]],\n",
       " 'embeddings': None,\n",
       " 'documents': [['The shoes I ordered were replaced with a larger size. Fits perfectly now!']],\n",
       " 'uris': None,\n",
       " 'data': None,\n",
       " 'included': ['metadatas', 'documents', 'distances']}"
      ]
     },
     "execution_count": 33,
     "metadata": {},
     "output_type": "execute_result"
    }
   ],
   "source": [
    "# Query Again to Verify Update\n",
    "query_results = collection.query(\n",
    "    query_texts=[\"shoes size\"],\n",
    "    n_results=2,\n",
    "    where={\"product_category\": \"apparel\"}\n",
    ")\n",
    "query_results"
   ]
  },
  {
   "cell_type": "code",
   "execution_count": null,
   "id": "f0fff48a-d189-49be-b5ee-eb95a7607da8",
   "metadata": {},
   "outputs": [],
   "source": [
    "# Delete Records\n",
    "collection.delete(ids=[\"r1\",\"r2\",\"r3\"])"
   ]
  },
  {
   "cell_type": "code",
   "execution_count": 35,
   "id": "19762b4b-4ae7-45e0-9a69-2399f1491b4b",
   "metadata": {},
   "outputs": [],
   "source": [
    "# Delete Collection\n",
    "client.delete_collection(name='reviews')"
   ]
  },
  {
   "cell_type": "markdown",
   "id": "eb2b1056-8519-4ba3-8966-dd7dfe3a5b8c",
   "metadata": {},
   "source": [
    "#### 5.4: Metadata Filtering"
   ]
  },
  {
   "cell_type": "code",
   "execution_count": 36,
   "id": "b9896a6e-37ef-4d7a-9145-b3b8284f94de",
   "metadata": {},
   "outputs": [
    {
     "name": "stderr",
     "output_type": "stream",
     "text": [
      "Failed to send telemetry event ClientCreateCollectionEvent: capture() takes 1 positional argument but 3 were given\n"
     ]
    }
   ],
   "source": [
    "from datetime import datetime\n",
    "\n",
    "collection = client.create_collection(\n",
    "    name=\"reviews\", \n",
    "    metadata={\n",
    "        \"description\": \"Product reviews\",\n",
    "        \"created\": str(datetime.now())\n",
    "    }  \n",
    ")"
   ]
  },
  {
   "cell_type": "code",
   "execution_count": 37,
   "id": "48e7e040-8525-4bfa-a3ac-62c1313b1579",
   "metadata": {},
   "outputs": [
    {
     "name": "stderr",
     "output_type": "stream",
     "text": [
      "Failed to send telemetry event CollectionAddEvent: capture() takes 1 positional argument but 3 were given\n"
     ]
    }
   ],
   "source": [
    "collection.add(\n",
    "    documents=[\n",
    "        \"The delivery was fast and the product quality is excellent!\",\n",
    "        \"I was not able to increase TV's brightness so I returned it back\",\n",
    "        \"The shoes I ordered were too small. Sizing is inaccurate.\",\n",
    "        \"Great customer support. Resolved my issue in minutes.\"\n",
    "    ],\n",
    "    ids=[\"r1\", \"r2\", \"r3\", \"r4\"],\n",
    "    metadatas=[\n",
    "        {\"product_category\": \"electronics\", \"rating\": 5},\n",
    "        {\"product_category\": \"electronics\", \"rating\": 2},\n",
    "        {\"product_category\": \"apparel\", \"rating\": 3},\n",
    "        {\"product_category\": \"services\", \"rating\": 4}\n",
    "    ]\n",
    ")"
   ]
  },
  {
   "cell_type": "code",
   "execution_count": 38,
   "id": "d40b8f12-4b7e-4405-a992-0aec85f01233",
   "metadata": {},
   "outputs": [
    {
     "name": "stderr",
     "output_type": "stream",
     "text": [
      "Failed to send telemetry event CollectionQueryEvent: capture() takes 1 positional argument but 3 were given\n"
     ]
    },
    {
     "data": {
      "text/plain": [
       "{'ids': [['r1', 'r2']],\n",
       " 'distances': [[0.8920919895172119, 2.0018961429595947]],\n",
       " 'metadatas': [[{'product_category': 'electronics', 'rating': 5},\n",
       "   {'product_category': 'electronics', 'rating': 2}]],\n",
       " 'embeddings': None,\n",
       " 'documents': [['The delivery was fast and the product quality is excellent!',\n",
       "   \"I was not able to increase TV's brightness so I returned it back\"]],\n",
       " 'uris': None,\n",
       " 'data': None,\n",
       " 'included': ['metadatas', 'documents', 'distances']}"
      ]
     },
     "execution_count": 38,
     "metadata": {},
     "output_type": "execute_result"
    }
   ],
   "source": [
    "# Metadata Filtering\n",
    "collection.query(\n",
    "    query_texts=[\"fast shipping\"],\n",
    "    n_results=2,\n",
    "    where={\"product_category\": \"electronics\"}\n",
    ")"
   ]
  },
  {
   "cell_type": "code",
   "execution_count": 39,
   "id": "534c2685-3d32-425d-b110-b57e0291dbfe",
   "metadata": {},
   "outputs": [
    {
     "data": {
      "text/plain": [
       "{'ids': [['r3', 'r2']],\n",
       " 'distances': [[1.7524369955062866, 2.0018961429595947]],\n",
       " 'metadatas': [[{'product_category': 'apparel', 'rating': 3},\n",
       "   {'product_category': 'electronics', 'rating': 2}]],\n",
       " 'embeddings': None,\n",
       " 'documents': [['The shoes I ordered were too small. Sizing is inaccurate.',\n",
       "   \"I was not able to increase TV's brightness so I returned it back\"]],\n",
       " 'uris': None,\n",
       " 'data': None,\n",
       " 'included': ['metadatas', 'documents', 'distances']}"
      ]
     },
     "execution_count": 39,
     "metadata": {},
     "output_type": "execute_result"
    }
   ],
   "source": [
    "collection.query(\n",
    "    query_texts=[\"fast shipping\"],\n",
    "    n_results=2,\n",
    "    where={\"rating\": { \"$in\": [1,2,3] }}\n",
    ")"
   ]
  },
  {
   "cell_type": "code",
   "execution_count": 40,
   "id": "ddc8c0ae-a00a-4524-9b2c-5468e16dcf6b",
   "metadata": {},
   "outputs": [
    {
     "data": {
      "text/plain": [
       "{'ids': [['r4']],\n",
       " 'distances': [[1.7052761316299438]],\n",
       " 'metadatas': [[{'product_category': 'services', 'rating': 4}]],\n",
       " 'embeddings': None,\n",
       " 'documents': [['Great customer support. Resolved my issue in minutes.']],\n",
       " 'uris': None,\n",
       " 'data': None,\n",
       " 'included': ['metadatas', 'documents', 'distances']}"
      ]
     },
     "execution_count": 40,
     "metadata": {},
     "output_type": "execute_result"
    }
   ],
   "source": [
    "# Full Text Search using where_document parameter\n",
    "collection.query(\n",
    "    query_texts=[\"fast shipping\"],\n",
    "    n_results=2,\n",
    "    where_document={ \"$contains\": \"customer\"}\n",
    ")"
   ]
  },
  {
   "cell_type": "code",
   "execution_count": null,
   "id": "1fdba88a-89db-4065-870a-eb51ee78c54e",
   "metadata": {},
   "outputs": [],
   "source": [
    "# include parameter\n",
    "collection.query(\n",
    "    query_texts=[\"fast shipping\"],\n",
    "    n_results=2,\n",
    "    where_document={ \"$contains\": \"customer\"},\n",
    "    include=[\"embeddings\"]\n",
    ")"
   ]
  },
  {
   "cell_type": "markdown",
   "id": "2d242b18-e8d2-440a-8550-1ffefdf0e693",
   "metadata": {},
   "source": [
    "#### Euclidean and Cosine Distance\n",
    "- Euclidean distance measures the straight-line distance between two points in a vector space, reflecting absolute similarity.\n",
    "- Cosine distance evaluates the angle between two vectors, focusing on their orientation rather than magnitude.\n",
    "- Euclidean distance is sensitive to vector magnitude, while cosine distance emphasizes direction, making it ideal for text and document similarity.\n",
    "- Choosing between Euclidean and cosine distance depends on the task — Euclidean for dense embeddings and cosine for sparse or high-dimensional data.\n",
    "- Can metadata filtering in ChromaDB be combined with vector similarity searches: Yes, to refine search results based on both vector similarity and metadata attributes.\n",
    "- How does metadata filtering improve the efficiency of vector searches in ChromaDB: By reducing the number of vectors to be compared during a search.\n",
    "- In ChromaDB, what type of data does the database primarily store: vector embeddings and the associated metadata.\n",
    "- Which of the following is a valid use case for ChromaDB: Building a recommendation system based on user embeddings. ChromaDB is a vector database designed to store and query embeddings efficiently. It’s ideal for use cases like: Semantic search, Recommendation systems, Retrieval-augmented, generation (RAG), Clustering and similarity-based tasks"
   ]
  }
 ],
 "metadata": {
  "kernelspec": {
   "display_name": "Python 3 (ipykernel)",
   "language": "python",
   "name": "python3"
  },
  "language_info": {
   "codemirror_mode": {
    "name": "ipython",
    "version": 3
   },
   "file_extension": ".py",
   "mimetype": "text/x-python",
   "name": "python",
   "nbconvert_exporter": "python",
   "pygments_lexer": "ipython3",
   "version": "3.10.11"
  }
 },
 "nbformat": 4,
 "nbformat_minor": 5
}
