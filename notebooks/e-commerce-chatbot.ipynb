{
 "cells": [
  {
   "cell_type": "markdown",
   "id": "9b598a07-8925-4213-a746-12f7e1e452d6",
   "metadata": {},
   "source": [
    "<center><h2>Gen AI: Business Project - E-Commerce Chatbot</h2></center"
   ]
  },
  {
   "cell_type": "code",
   "execution_count": null,
   "id": "698b3184-4439-48a6-9248-374119299607",
   "metadata": {},
   "outputs": [],
   "source": []
  }
 ],
 "metadata": {
  "kernelspec": {
   "display_name": "Python 3 (ipykernel)",
   "language": "python",
   "name": "python3"
  },
  "language_info": {
   "codemirror_mode": {
    "name": "ipython",
    "version": 3
   },
   "file_extension": ".py",
   "mimetype": "text/x-python",
   "name": "python",
   "nbconvert_exporter": "python",
   "pygments_lexer": "ipython3",
   "version": "3.10.11"
  }
 },
 "nbformat": 4,
 "nbformat_minor": 5
}
