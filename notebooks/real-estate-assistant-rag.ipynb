{
 "cells": [
  {
   "cell_type": "markdown",
   "id": "d6545b26-430f-47c2-8181-a41fad9d93a8",
   "metadata": {},
   "source": [
    "<center><h2>Gen AI: Business Project - Real Estate Assistant Using RAG</h2></center"
   ]
  },
  {
   "cell_type": "markdown",
   "id": "e05f53d7-31b5-4153-b7d2-a3d7cc3be9ef",
   "metadata": {},
   "source": [
    "#### 6.2: RAG Based Technical Architecture\n",
    "- Technical Architecture\n",
    "  - Documents -> Splits(Chunk1, Chunk2 etc.) -> Vector DB (Vector Database) -> Retrieval (Question based on Chunk2 and Chunk4) -> Prompt (Question: Ans based on the below text Chunk2 and Chunk4 ) -> LLM -> Answer\n",
    "- Tool used\n",
    "  - Documents (JSONLoader, UnstructuredURLLoader) -> Splits(CharacterTextSplitter, RecursiveTextSplitter) -> Vector DB (FAISS, Chroma) -> Retrieval (RetrievalQAWithSourceChain) -> Prompt -> LLM -> Answer\n",
    "- Generally in Phase 2 company build data ingestion pipeline\n",
    "  - Multiple Source system -> Web Scrapper (Cron Based) -> Embedding (Many ways to generate depends on user choice) -> Chroma DB\n",
    "- Final Architecture\n",
    "  - ChatGPT like react based UI (Where people as question) -> Embedding -> VectorDB -> Prompt (Question along with data chunks) -> LLM -> ChatGPT like react based UI (Where people as question)"
   ]
  },
  {
   "cell_type": "markdown",
   "id": "d8371529-e6c0-4031-83a4-c12ed72e3ac6",
   "metadata": {},
   "source": [
    "#### 6.3: Document Loaders"
   ]
  },
  {
   "cell_type": "code",
   "execution_count": 8,
   "id": "fbbfc4ae-2602-4303-95e3-a99c6ff8e283",
   "metadata": {},
   "outputs": [
    {
     "data": {
      "text/plain": [
       "1"
      ]
     },
     "execution_count": 8,
     "metadata": {},
     "output_type": "execute_result"
    }
   ],
   "source": [
    "# UnstructuredURLLoader\n",
    "from langchain_community.document_loaders import UnstructuredURLLoader\n",
    "\n",
    "loader = UnstructuredURLLoader(\n",
    "    urls=[\"https://www.cnbc.com/2024/12/21/how-the-federal-reserves-rate-policy-affects-mortgages.html\"]\n",
    ")\n",
    "docs = loader.load()\n",
    "len(docs)"
   ]
  },
  {
   "cell_type": "code",
   "execution_count": 9,
   "id": "848e600d-1d79-4fd2-bbed-02b867bf6adc",
   "metadata": {},
   "outputs": [
    {
     "data": {
      "text/plain": [
       "{'source': 'https://www.cnbc.com/2024/12/21/how-the-federal-reserves-rate-policy-affects-mortgages.html'}"
      ]
     },
     "execution_count": 9,
     "metadata": {},
     "output_type": "execute_result"
    }
   ],
   "source": [
    "docs[0].metadata"
   ]
  },
  {
   "cell_type": "code",
   "execution_count": 10,
   "id": "32f42786-c62c-445c-8dc5-8968b23995ba",
   "metadata": {},
   "outputs": [
    {
     "data": {
      "text/plain": [
       "'Access Denied\\n\\nYou don\\'t have permission to access \"http://www.cnbc.com/2024/12/21/how-the-federal-reserves-rate-policy-affects-mortgages.html\" on this server.\\n\\nReference #18.65ad4d68.1754539958.447612c\\n\\nhttps://errors.edgesuite.net/18.65ad4d68.1754539958.447612c'"
      ]
     },
     "execution_count": 10,
     "metadata": {},
     "output_type": "execute_result"
    }
   ],
   "source": [
    "docs[0].page_content"
   ]
  },
  {
   "cell_type": "markdown",
   "id": "6b1bb719-fddb-4d2f-be49-e9a257e9bed4",
   "metadata": {},
   "source": [
    "# CSVLoader\n",
    "from langchain_community.document_loaders import CSVLoader\n",
    "\n",
    "loader = CSVLoader(\n",
    "    file_path=\"../data/patient_records.csv\"\n",
    ")\n",
    "docs = loader.load()\n",
    "len(docs)"
   ]
  },
  {
   "cell_type": "code",
   "execution_count": 12,
   "id": "8bc5f300-fd96-4eaa-9419-77784370cf4b",
   "metadata": {},
   "outputs": [
    {
     "data": {
      "text/plain": [
       "Document(metadata={'source': '../data/patient_records.csv', 'row': 0}, page_content='patient_id: PT-1000\\nsymptoms: Dizziness, irregular heartbeat, fatigue\\ndiagnosis: Atrial Fibrillation\\ntreatment: Blood thinners, beta-blockers\\ndoctor_notes: Irregular heartbeat detected; cardiology referral made.')"
      ]
     },
     "execution_count": 12,
     "metadata": {},
     "output_type": "execute_result"
    }
   ],
   "source": [
    "docs[0]"
   ]
  },
  {
   "cell_type": "code",
   "execution_count": 13,
   "id": "5bc92c5c-32fd-4256-a3b9-71087dac7050",
   "metadata": {},
   "outputs": [
    {
     "data": {
      "text/plain": [
       "{'source': '../data/patient_records.csv', 'row': 0}"
      ]
     },
     "execution_count": 13,
     "metadata": {},
     "output_type": "execute_result"
    }
   ],
   "source": [
    "docs[0].metadata"
   ]
  },
  {
   "cell_type": "code",
   "execution_count": 14,
   "id": "1257a1f2-cf09-4cd2-b2ae-b2cd3eb0caf7",
   "metadata": {},
   "outputs": [
    {
     "name": "stdout",
     "output_type": "stream",
     "text": [
      "patient_id: PT-1000\n",
      "symptoms: Dizziness, irregular heartbeat, fatigue\n",
      "diagnosis: Atrial Fibrillation\n",
      "treatment: Blood thinners, beta-blockers\n",
      "doctor_notes: Irregular heartbeat detected; cardiology referral made.\n"
     ]
    }
   ],
   "source": [
    "print(docs[0].page_content)"
   ]
  },
  {
   "cell_type": "markdown",
   "id": "920055aa-261d-4d1a-8383-b56a13dc5028",
   "metadata": {},
   "source": [
    "#### 6.4: Text Splitter in Langchain"
   ]
  },
  {
   "cell_type": "code",
   "execution_count": 16,
   "id": "2b2800e0-8ed4-4c4e-ba8b-728874124de2",
   "metadata": {},
   "outputs": [],
   "source": [
    "text = '''Hometown Cha-Cha-Cha is a 2021 South Korean romantic comedy drama television series starring Shin Min-a, Kim Seon-ho and Lee Sang-yi. It is a remake of 2004 South Korean film Mr. Handy, Mr. Hong.[6] It aired on tvN from August 28 to October 17, 2021, every Saturday and Sunday at 21:00 (KST).[7][8] It is also available for streaming on Netflix.[9]\n",
    "\n",
    "The series was a commercial hit and became one of the highest-rated dramas in Korean cable television history.[10][11] It ranked first place during its entire run for eight weeks, and the last episode achieved 12.665% nationwide rating, with over 3.2 million views.[12] It also became one of Netflix's most-watched non-English television shows, and one of its longest-running hits as it spent 16 weeks in global top ten rankings.\n",
    "'''"
   ]
  },
  {
   "cell_type": "markdown",
   "id": "7faf1dad-8e0e-4744-9b0d-d91b533043ac",
   "metadata": {},
   "source": [
    "##### Manual approach of splitting the text into chunks"
   ]
  },
  {
   "cell_type": "code",
   "execution_count": 17,
   "id": "b1d13c99-e6a3-49a0-9c09-be47a6e63678",
   "metadata": {},
   "outputs": [
    {
     "data": {
      "text/plain": [
       "'Hometown Cha-Cha-Cha is a 2021 South Korean romantic comedy drama television series starring Shin Mi'"
      ]
     },
     "execution_count": 17,
     "metadata": {},
     "output_type": "execute_result"
    }
   ],
   "source": [
    "text[0:100]"
   ]
  },
  {
   "cell_type": "code",
   "execution_count": 18,
   "id": "7ed0f9d7-0665-4d08-a897-f522f88f8b02",
   "metadata": {},
   "outputs": [
    {
     "data": {
      "text/plain": [
       "126"
      ]
     },
     "execution_count": 18,
     "metadata": {},
     "output_type": "execute_result"
    }
   ],
   "source": [
    "# Well but we want complete words and want to do this for entire text, may be we can use Python's split funciton\n",
    "words = text.split(\" \")\n",
    "len(words)"
   ]
  },
  {
   "cell_type": "code",
   "execution_count": 19,
   "id": "4ff6b867-6647-45b6-950b-3ac5e066112b",
   "metadata": {},
   "outputs": [],
   "source": [
    "chunks = []\n",
    "\n",
    "s = \"\"\n",
    "for word in words:\n",
    "    s += word + \" \"\n",
    "    if len(s)>200:\n",
    "        chunks.append(s)\n",
    "        s = \"\"\n",
    "        \n",
    "chunks.append(s)"
   ]
  },
  {
   "cell_type": "code",
   "execution_count": 20,
   "id": "f56226b8-4bb8-419e-be5b-621d87d46a65",
   "metadata": {},
   "outputs": [
    {
     "data": {
      "text/plain": [
       "['Hometown Cha-Cha-Cha is a 2021 South Korean romantic comedy drama television series starring Shin Min-a, Kim Seon-ho and Lee Sang-yi. It is a remake of 2004 South Korean film Mr. Handy, Mr. Hong.[6] It ',\n",
       " 'aired on tvN from August 28 to October 17, 2021, every Saturday and Sunday at 21:00 (KST).[7][8] It is also available for streaming on Netflix.[9]\\n\\nThe series was a commercial hit and became one of the ']"
      ]
     },
     "execution_count": 20,
     "metadata": {},
     "output_type": "execute_result"
    }
   ],
   "source": [
    "chunks[:2]"
   ]
  },
  {
   "cell_type": "markdown",
   "id": "e5bc25dd-e79e-48ec-b527-1797dafe661b",
   "metadata": {},
   "source": [
    "Splitting data into chunks can be done in native python but it is a tidious process. Also if necessary, you may need to experiment with various delimiters in an iterative manner to ensure that each chunk does not exceed the token length limit of the respective LLM.\n",
    "\n",
    "Langchain provides a better way through text splitter classes."
   ]
  },
  {
   "cell_type": "markdown",
   "id": "baa95042-b2bb-4ba5-b305-e436e89c991f",
   "metadata": {},
   "source": [
    "##### CharacterTextSplitter"
   ]
  },
  {
   "cell_type": "code",
   "execution_count": 21,
   "id": "03abb43a-35d4-4124-b51e-2c36162c3936",
   "metadata": {},
   "outputs": [],
   "source": [
    "from langchain_text_splitters import CharacterTextSplitter\n",
    "\n",
    "splitter = CharacterTextSplitter(\n",
    "    separator = \"\\n\",\n",
    "    chunk_size=200,\n",
    "    chunk_overlap=0\n",
    ")"
   ]
  },
  {
   "cell_type": "code",
   "execution_count": 22,
   "id": "eea82102-d6fe-4762-836a-d52bc4a8094d",
   "metadata": {},
   "outputs": [
    {
     "name": "stderr",
     "output_type": "stream",
     "text": [
      "Created a chunk of size 348, which is longer than the specified 200\n"
     ]
    },
    {
     "data": {
      "text/plain": [
       "2"
      ]
     },
     "execution_count": 22,
     "metadata": {},
     "output_type": "execute_result"
    }
   ],
   "source": [
    "chunks = splitter.split_text(text)\n",
    "len(chunks)"
   ]
  },
  {
   "cell_type": "code",
   "execution_count": 23,
   "id": "22b7e90b-a0f6-40f0-a74e-20b1ae6a5e59",
   "metadata": {},
   "outputs": [
    {
     "data": {
      "text/plain": [
       "(348, 429)"
      ]
     },
     "execution_count": 23,
     "metadata": {},
     "output_type": "execute_result"
    }
   ],
   "source": [
    "len(chunks[0]), len(chunks[1])"
   ]
  },
  {
   "cell_type": "markdown",
   "id": "49689d03-83a6-4503-85ab-b8d57e599856",
   "metadata": {},
   "source": [
    "As you can see, all though we gave 200 as a chunk size since the split was based on \\n, it ended up creating chunks that are bigger than size 200.\n",
    "\n",
    "Another class from Langchain can be used to recursively split the text based on a list of separators. This class is RecursiveTextSplitter. Let's see how it works"
   ]
  },
  {
   "cell_type": "code",
   "execution_count": 24,
   "id": "5bc26cfa-a9a0-45da-9186-5debce686f1e",
   "metadata": {},
   "outputs": [
    {
     "name": "stdout",
     "output_type": "stream",
     "text": [
      "Hometown Cha-Cha-Cha is a 2021 South Korean romantic comedy drama television series starring Shin Min-a, Kim Seon-ho and Lee Sang-yi. It is a remake of 2004 South Korean film Mr. Handy, Mr. Hong.[6] It aired on tvN from August 28 to October 17, 2021, every Saturday and Sunday at 21:00 (KST).[7][8] It is also available for streaming on Netflix.[9]\n",
      "\n",
      "The series was a commercial hit and became one of the highest-rated dramas in Korean cable television history.[10][11] It ranked first place during its entire run for eight weeks, and the last episode achieved 12.665% nationwide rating, with over 3.2 million views.[12] It also became one of Netflix's most-watched non-English television shows, and one of its longest-running hits as it spent 16 weeks in global top ten rankings.\n",
      "\n"
     ]
    }
   ],
   "source": [
    "print(text)"
   ]
  },
  {
   "cell_type": "markdown",
   "id": "518838c7-d8ad-410c-b0ec-67b482cb99ce",
   "metadata": {},
   "source": [
    "##### RecursiveCharacterTextSplitter"
   ]
  },
  {
   "cell_type": "code",
   "execution_count": 25,
   "id": "94bf0c2d-3a90-43b6-b587-1e528db43388",
   "metadata": {},
   "outputs": [],
   "source": [
    "from langchain_text_splitters import RecursiveCharacterTextSplitter\n",
    "\n",
    "r_splitter = RecursiveCharacterTextSplitter(\n",
    "    separators = [\"\\n\\n\", \"\\n\", \" \"],  # List of separators based on requirement (defaults to [\"\\n\\n\", \"\\n\", \" \"])\n",
    "    chunk_size = 200,  # size of each chunk created\n",
    "    chunk_overlap  = 30,  # size of  overlap between chunks in order to maintain the context\n",
    "    length_function = len  # Function to calculate size, currently we are using \"len\" which denotes length of string however you can pass any token counter)\n",
    ")"
   ]
  },
  {
   "cell_type": "code",
   "execution_count": 26,
   "id": "27d38ec3-e0d4-47cf-8cc3-f7e379d52545",
   "metadata": {},
   "outputs": [
    {
     "name": "stdout",
     "output_type": "stream",
     "text": [
      "198\n",
      "178\n",
      "192\n",
      "196\n",
      "91\n"
     ]
    }
   ],
   "source": [
    "chunks = r_splitter.split_text(text)\n",
    "\n",
    "for chunk in chunks:\n",
    "    print(len(chunk))"
   ]
  },
  {
   "cell_type": "code",
   "execution_count": 27,
   "id": "df7fc1eb-cd23-4d9d-9383-ea588c93006f",
   "metadata": {},
   "outputs": [
    {
     "name": "stdout",
     "output_type": "stream",
     "text": [
      "Hometown Cha-Cha-Cha is a 2021 South Korean romantic comedy drama television series starring Shin Min-a, Kim Seon-ho and Lee Sang-yi. It is a remake of 2004 South Korean film Mr. Handy, Mr. Hong.[6]\n"
     ]
    }
   ],
   "source": [
    "print(chunks[0])"
   ]
  },
  {
   "cell_type": "code",
   "execution_count": 28,
   "id": "f44d08ec-d057-43ff-9ecf-414492069a27",
   "metadata": {},
   "outputs": [
    {
     "name": "stdout",
     "output_type": "stream",
     "text": [
      "film Mr. Handy, Mr. Hong.[6] It aired on tvN from August 28 to October 17, 2021, every Saturday and Sunday at 21:00 (KST).[7][8] It is also available for streaming on Netflix.[9]\n"
     ]
    }
   ],
   "source": [
    "print(chunks[1])"
   ]
  },
  {
   "cell_type": "markdown",
   "id": "8d79f6d9-522a-49cf-8362-eb6b7c7fb411",
   "metadata": {},
   "source": [
    "As you see above, the second chunk has an overlap of few end characters from the first chunk due to chunk_overlap"
   ]
  },
  {
   "cell_type": "markdown",
   "id": "d6a31154-9014-4d75-8255-3a03ec222e35",
   "metadata": {},
   "source": [
    "##### Let's understand how exactly it formed these chunks"
   ]
  },
  {
   "cell_type": "code",
   "execution_count": 29,
   "id": "f13a50b1-8646-4f7b-be94-63a8c6452f89",
   "metadata": {},
   "outputs": [
    {
     "data": {
      "text/plain": [
       "'Hometown Cha-Cha-Cha is a 2021 South Korean romantic comedy drama television series starring Shin Min-a, Kim Seon-ho and Lee Sang-yi. It is a remake of 2004 South Korean film Mr. Handy, Mr. Hong.[6] It aired on tvN from August 28 to October 17, 2021, every Saturday and Sunday at 21:00 (KST).[7][8] It is also available for streaming on Netflix.[9]'"
      ]
     },
     "execution_count": 29,
     "metadata": {},
     "output_type": "execute_result"
    }
   ],
   "source": [
    "first_split = text.split(\"\\n\\n\")[0]\n",
    "first_split"
   ]
  },
  {
   "cell_type": "code",
   "execution_count": 30,
   "id": "cfb6643f-9015-4576-9d2e-522c882c8e04",
   "metadata": {},
   "outputs": [
    {
     "data": {
      "text/plain": [
       "348"
      ]
     },
     "execution_count": 30,
     "metadata": {},
     "output_type": "execute_result"
    }
   ],
   "source": [
    "len(first_split)"
   ]
  },
  {
   "cell_type": "markdown",
   "id": "198f5421-b24b-42cc-97c0-5f85191456cd",
   "metadata": {},
   "source": [
    "Recursive text splitter uses a list of separators, i.e. separators = [\"\\n\\n\", \"\\n\", \".\"]\n",
    "\n",
    "So now it will first split using \\n\\n and then if the resulting chunk size is greater than the chunk_size parameter which is 200 in our case, then it will use the next separator which is \\n"
   ]
  },
  {
   "cell_type": "code",
   "execution_count": 31,
   "id": "9aeb0641-b34d-4150-b564-5b4e2ad50960",
   "metadata": {},
   "outputs": [
    {
     "data": {
      "text/plain": [
       "['Hometown Cha-Cha-Cha is a 2021 South Korean romantic comedy drama television series starring Shin Min-a, Kim Seon-ho and Lee Sang-yi. It is a remake of 2004 South Korean film Mr. Handy, Mr. Hong.[6] It aired on tvN from August 28 to October 17, 2021, every Saturday and Sunday at 21:00 (KST).[7][8] It is also available for streaming on Netflix.[9]']"
      ]
     },
     "execution_count": 31,
     "metadata": {},
     "output_type": "execute_result"
    }
   ],
   "source": [
    "second_split = first_split.split(\"\\n\")\n",
    "second_split"
   ]
  },
  {
   "cell_type": "code",
   "execution_count": 32,
   "id": "ff9e55f5-4750-4865-9baf-e7e01572f66b",
   "metadata": {},
   "outputs": [
    {
     "data": {
      "text/plain": [
       "348"
      ]
     },
     "execution_count": 32,
     "metadata": {},
     "output_type": "execute_result"
    }
   ],
   "source": [
    "len(second_split[0])"
   ]
  },
  {
   "cell_type": "code",
   "execution_count": 33,
   "id": "dce35255-5a4d-497b-8928-d30c50b9d29e",
   "metadata": {},
   "outputs": [
    {
     "data": {
      "text/plain": [
       "59"
      ]
     },
     "execution_count": 33,
     "metadata": {},
     "output_type": "execute_result"
    }
   ],
   "source": [
    "third_split = second_split[0].split(\" \")\n",
    "len(third_split)"
   ]
  },
  {
   "cell_type": "code",
   "execution_count": 34,
   "id": "1255773d-3dab-44a4-8dd2-ac407f7e49c0",
   "metadata": {},
   "outputs": [
    {
     "data": {
      "text/plain": [
       "'Hometown'"
      ]
     },
     "execution_count": 34,
     "metadata": {},
     "output_type": "execute_result"
    }
   ],
   "source": [
    "third_split[0]"
   ]
  },
  {
   "cell_type": "markdown",
   "id": "d7f1f21f-272a-4c39-ae93-12eeb302521e",
   "metadata": {},
   "source": [
    "#### Learning lessons\n",
    "- RAG is a popular approach that people use to build Gen AI Applications.\n",
    "- Langchain abstracts low level processing tasks making it fast to build Gen AI Apps.\n",
    "- Langchain goes through rapid changes (sometimes backward incompatible) creating frustration among the community.\n",
    "- A smart AI engineer, data scientist will have a strong skill of figuring out a correct syntax and figure out solutions of errors they face."
   ]
  }
 ],
 "metadata": {
  "kernelspec": {
   "display_name": "Python 3 (ipykernel)",
   "language": "python",
   "name": "python3"
  },
  "language_info": {
   "codemirror_mode": {
    "name": "ipython",
    "version": 3
   },
   "file_extension": ".py",
   "mimetype": "text/x-python",
   "name": "python",
   "nbconvert_exporter": "python",
   "pygments_lexer": "ipython3",
   "version": "3.10.11"
  }
 },
 "nbformat": 4,
 "nbformat_minor": 5
}
